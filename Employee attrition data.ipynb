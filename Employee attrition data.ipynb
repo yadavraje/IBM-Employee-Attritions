{
 "cells": [
  {
   "cell_type": "code",
   "execution_count": 3,
   "id": "9cbf4d7f",
   "metadata": {
    "slideshow": {
     "slide_type": "skip"
    }
   },
   "outputs": [],
   "source": [
    "import pandas as pd\n",
    "import numpy as np\n",
    "import seaborn as sns\n",
    "import matplotlib as mlt\n",
    "import matplotlib.pyplot as plt\n",
    "from tabulate import tabulate"
   ]
  },
  {
   "cell_type": "markdown",
   "id": "d3fb3e2a",
   "metadata": {
    "slideshow": {
     "slide_type": "slide"
    }
   },
   "source": [
    "## EDA for Employee Attrition"
   ]
  },
  {
   "cell_type": "code",
   "execution_count": null,
   "id": "3c14f6d6",
   "metadata": {
    "slideshow": {
     "slide_type": "skip"
    }
   },
   "outputs": [],
   "source": [
    "df=pd.read_csv(\"DS1_C6_S2_EmployeeAttrition_Data_Concept.csv\")"
   ]
  },
  {
   "cell_type": "code",
   "execution_count": null,
   "id": "f06dd164",
   "metadata": {
    "slideshow": {
     "slide_type": "slide"
    }
   },
   "outputs": [],
   "source": [
    "df"
   ]
  },
  {
   "cell_type": "code",
   "execution_count": null,
   "id": "be9ccef4",
   "metadata": {
    "slideshow": {
     "slide_type": "skip"
    }
   },
   "outputs": [],
   "source": [
    "df.shape"
   ]
  },
  {
   "cell_type": "code",
   "execution_count": null,
   "id": "0996b42d",
   "metadata": {
    "slideshow": {
     "slide_type": "skip"
    }
   },
   "outputs": [],
   "source": [
    "df.head()"
   ]
  },
  {
   "cell_type": "code",
   "execution_count": null,
   "id": "08fc23af",
   "metadata": {
    "slideshow": {
     "slide_type": "skip"
    }
   },
   "outputs": [],
   "source": [
    "df.tail()"
   ]
  },
  {
   "cell_type": "code",
   "execution_count": null,
   "id": "387de5f7",
   "metadata": {
    "slideshow": {
     "slide_type": "skip"
    }
   },
   "outputs": [],
   "source": [
    "print(df.columns)"
   ]
  },
  {
   "cell_type": "markdown",
   "id": "4aa14a36",
   "metadata": {
    "slideshow": {
     "slide_type": "slide"
    }
   },
   "source": [
    "### Displaying the dataset information"
   ]
  },
  {
   "cell_type": "code",
   "execution_count": null,
   "id": "84f0012b",
   "metadata": {
    "slideshow": {
     "slide_type": "slide"
    }
   },
   "outputs": [],
   "source": [
    "df.info()"
   ]
  },
  {
   "cell_type": "code",
   "execution_count": null,
   "id": "65ec46b1",
   "metadata": {
    "slideshow": {
     "slide_type": "skip"
    }
   },
   "outputs": [],
   "source": [
    "df.isnull().sum()"
   ]
  },
  {
   "cell_type": "markdown",
   "id": "d9d0670a",
   "metadata": {
    "slideshow": {
     "slide_type": "slide"
    }
   },
   "source": [
    "###  Level-1 Analysis"
   ]
  },
  {
   "cell_type": "code",
   "execution_count": null,
   "id": "79666341",
   "metadata": {
    "slideshow": {
     "slide_type": "skip"
    }
   },
   "outputs": [],
   "source": [
    "def seperate_data_types(df):\n",
    "    categorical=[]\n",
    "    continuous=[]\n",
    "    for column in df.columns:\n",
    "        if df[column].nunique()<50:\n",
    "            categorical.append(column)\n",
    "        else:\n",
    "            continuous.append(column)\n",
    "    return categorical,continuous"
   ]
  },
  {
   "cell_type": "code",
   "execution_count": null,
   "id": "5dc84a61",
   "metadata": {
    "slideshow": {
     "slide_type": "slide"
    }
   },
   "outputs": [],
   "source": [
    "categorical,continuous=seperate_data_types(df)\n",
    "\n",
    "from tabulate import tabulate\n",
    "table = [categorical, continuous]\n",
    "print(tabulate({\"Categorical\":categorical,\n",
    "                \"continuous\": continuous}, headers = [\"categorical\", \"continuous\"]))"
   ]
  },
  {
   "cell_type": "code",
   "execution_count": null,
   "id": "0c6cd42c",
   "metadata": {
    "slideshow": {
     "slide_type": "skip"
    }
   },
   "outputs": [],
   "source": [
    "def info_of_cat(col):\n",
    "    print(f\"Unique values of {col} are:{df[col].unique()}\")\n",
    "    print(f\"Mode of {col} is:{df[col].mode()[0]}\")\n",
    "    print(f\"Number of missing values in {col} is {df[col].isnull().sum()}\")"
   ]
  },
  {
   "cell_type": "code",
   "execution_count": null,
   "id": "6568f2b2",
   "metadata": {
    "slideshow": {
     "slide_type": "skip"
    }
   },
   "outputs": [],
   "source": []
  },
  {
   "cell_type": "markdown",
   "id": "20800129",
   "metadata": {
    "slideshow": {
     "slide_type": "slide"
    }
   },
   "source": [
    "### Analyzing 'Attrition' column"
   ]
  },
  {
   "cell_type": "code",
   "execution_count": null,
   "id": "05baf41f",
   "metadata": {
    "slideshow": {
     "slide_type": "skip"
    }
   },
   "outputs": [],
   "source": [
    "info_of_cat('Attrition')"
   ]
  },
  {
   "cell_type": "code",
   "execution_count": null,
   "id": "e25555b4",
   "metadata": {
    "slideshow": {
     "slide_type": "slide"
    }
   },
   "outputs": [],
   "source": [
    "fig, ax=plt.subplots(1,2,figsize=(15,7))\n",
    "ax[0].set_title('Attrition')\n",
    "percentage=df['Attrition'].value_counts()\n",
    "labels=list(percentage.index)\n",
    "\n",
    "sns.countplot(x=df[\"Attrition\"],ax=ax[0])\n",
    "plt.pie(percentage, labels=labels, autopct=\"%0.2f%%\")\n",
    "\n",
    "plt.show()"
   ]
  },
  {
   "cell_type": "markdown",
   "id": "fb93b529",
   "metadata": {
    "slideshow": {
     "slide_type": "fragment"
    }
   },
   "source": [
    "#### Interpretion - Almost 84% of employees have continued working with the company whereas 16% have been attrited"
   ]
  },
  {
   "cell_type": "code",
   "execution_count": null,
   "id": "3836aa42",
   "metadata": {
    "slideshow": {
     "slide_type": "skip"
    }
   },
   "outputs": [],
   "source": [
    "per_Attrn=df['Attrition'].value_counts()\n",
    "per_Attrn"
   ]
  },
  {
   "cell_type": "code",
   "execution_count": null,
   "id": "197f3014",
   "metadata": {
    "slideshow": {
     "slide_type": "skip"
    }
   },
   "outputs": [],
   "source": [
    "labels=list(per_Attrn.index)\n",
    "labels"
   ]
  },
  {
   "cell_type": "markdown",
   "id": "119b6b29",
   "metadata": {
    "slideshow": {
     "slide_type": "slide"
    }
   },
   "source": [
    "### JobInvolvement column analysis"
   ]
  },
  {
   "cell_type": "code",
   "execution_count": null,
   "id": "6f3f4fa0",
   "metadata": {
    "slideshow": {
     "slide_type": "skip"
    }
   },
   "outputs": [],
   "source": [
    "info_of_cat('JobInvolvement')"
   ]
  },
  {
   "cell_type": "code",
   "execution_count": null,
   "id": "73f7a23c",
   "metadata": {
    "slideshow": {
     "slide_type": "slide"
    }
   },
   "outputs": [],
   "source": [
    "fig, ax=plt.subplots(1,2,figsize=(15,7))\n",
    "ax[0].set_title('JobInvolvement')\n",
    "percentage=df['JobInvolvement'].value_counts()\n",
    "labels=list(percentage.index)\n",
    "\n",
    "sns.countplot(x=df[\"JobInvolvement\"],ax=ax[0])\n",
    "plt.pie(percentage, labels=labels, autopct=\"%0.2f%%\")\n",
    "\n",
    "plt.show()"
   ]
  },
  {
   "cell_type": "markdown",
   "id": "084c547b",
   "metadata": {
    "slideshow": {
     "slide_type": "fragment"
    }
   },
   "source": [
    "##### Majority of the employees about 59% have been rated to 3 out of 4 for their job involvement"
   ]
  },
  {
   "cell_type": "markdown",
   "id": "289aff10",
   "metadata": {
    "slideshow": {
     "slide_type": "slide"
    }
   },
   "source": [
    "#### MaritalStatus Analysis"
   ]
  },
  {
   "cell_type": "code",
   "execution_count": null,
   "id": "29417d06",
   "metadata": {
    "slideshow": {
     "slide_type": "fragment"
    }
   },
   "outputs": [],
   "source": [
    "info_of_cat('MaritalStatus')"
   ]
  },
  {
   "cell_type": "code",
   "execution_count": null,
   "id": "765ecd4a",
   "metadata": {
    "slideshow": {
     "slide_type": "fragment"
    }
   },
   "outputs": [],
   "source": [
    "df.MaritalStatus.fillna('Married', inplace=True)"
   ]
  },
  {
   "cell_type": "code",
   "execution_count": null,
   "id": "94aac012",
   "metadata": {
    "slideshow": {
     "slide_type": "fragment"
    }
   },
   "outputs": [],
   "source": [
    "info_of_cat('MaritalStatus')"
   ]
  },
  {
   "cell_type": "code",
   "execution_count": null,
   "id": "3d4a2845",
   "metadata": {
    "slideshow": {
     "slide_type": "slide"
    }
   },
   "outputs": [],
   "source": [
    "fig, ax=plt.subplots(1,2,figsize=(15,7))\n",
    "ax[0].set_title('MaritalStatus')\n",
    "percentage=df['MaritalStatus'].value_counts()\n",
    "labels=list(percentage.index)\n",
    "\n",
    "sns.countplot(x=df[\"MaritalStatus\"],ax=ax[0])\n",
    "plt.pie(percentage, labels=labels, autopct=\"%0.2f%%\")\n",
    "\n",
    "plt.show()"
   ]
  },
  {
   "cell_type": "markdown",
   "id": "00b52bf8",
   "metadata": {
    "slideshow": {
     "slide_type": "fragment"
    }
   },
   "source": [
    "### Company is having 48% of employees are married whereas 30% are single and rest are Divorced"
   ]
  },
  {
   "cell_type": "markdown",
   "id": "79422328",
   "metadata": {
    "slideshow": {
     "slide_type": "slide"
    }
   },
   "source": [
    "## Analysis For Number of Companies Worked"
   ]
  },
  {
   "cell_type": "code",
   "execution_count": null,
   "id": "2605c27c",
   "metadata": {
    "slideshow": {
     "slide_type": "skip"
    }
   },
   "outputs": [],
   "source": [
    "info_of_cat('NumCompaniesWorked')"
   ]
  },
  {
   "cell_type": "code",
   "execution_count": null,
   "id": "bb0ad810",
   "metadata": {
    "slideshow": {
     "slide_type": "slide"
    }
   },
   "outputs": [],
   "source": [
    "fig, ax=plt.subplots(1,2,figsize=(15,7))\n",
    "ax[0].set_title('NumCompaniesWorked')\n",
    "percentage=df['NumCompaniesWorked'].value_counts()\n",
    "labels=list(percentage.index)\n",
    "\n",
    "sns.countplot(x=df[\"NumCompaniesWorked\"],ax=ax[0])\n",
    "plt.pie(percentage, labels=labels, autopct=\"%0.2f%%\")\n",
    "\n",
    "plt.show()"
   ]
  },
  {
   "cell_type": "markdown",
   "id": "a0238c66",
   "metadata": {
    "slideshow": {
     "slide_type": "fragment"
    }
   },
   "source": [
    "### The Data shows that 35% of employees have been working for the single company"
   ]
  },
  {
   "cell_type": "markdown",
   "id": "ae197b01",
   "metadata": {
    "slideshow": {
     "slide_type": "slide"
    }
   },
   "source": [
    "## WorkLife Balance column Analysis"
   ]
  },
  {
   "cell_type": "code",
   "execution_count": null,
   "id": "fba48d28",
   "metadata": {
    "slideshow": {
     "slide_type": "skip"
    }
   },
   "outputs": [],
   "source": [
    "info_of_cat('WorkLifeBalance')"
   ]
  },
  {
   "cell_type": "code",
   "execution_count": null,
   "id": "7e9a1544",
   "metadata": {
    "slideshow": {
     "slide_type": "slide"
    }
   },
   "outputs": [],
   "source": [
    "fig, ax=plt.subplots(1,2,figsize=(15,7))\n",
    "ax[0].set_title('WorkLifeBalance')\n",
    "percentage=df['WorkLifeBalance'].value_counts()\n",
    "labels=list(percentage.index)\n",
    "\n",
    "sns.countplot(x=df[\"WorkLifeBalance\"],ax=ax[0])\n",
    "plt.pie(percentage, labels=labels, autopct=\"%0.2f%%\")\n",
    "\n",
    "plt.show()"
   ]
  },
  {
   "cell_type": "markdown",
   "id": "12ab062a",
   "metadata": {
    "slideshow": {
     "slide_type": "fragment"
    }
   },
   "source": [
    "### Interpretation - Majority of Employees of the company have rated 3 out of 5 for work life balance while working with the company"
   ]
  },
  {
   "cell_type": "code",
   "execution_count": null,
   "id": "39b6cd44",
   "metadata": {
    "slideshow": {
     "slide_type": "skip"
    }
   },
   "outputs": [],
   "source": []
  },
  {
   "cell_type": "code",
   "execution_count": null,
   "id": "ed77a3c6",
   "metadata": {
    "slideshow": {
     "slide_type": "skip"
    }
   },
   "outputs": [],
   "source": [
    "def info_of_numerical(col):\n",
    "    print(f\"The mean of the {col} is {df[col].mean()}\")\n",
    "    print(f\"The median of the {col} is {df[col].median()}\")\n",
    "    print(f\"The mode of the {col} is {df[col].mode()[0]}\")\n",
    "    print(f\"The standard deviation of the {col} is {df[col].std()}\")\n",
    "    print(f\"Number of missing values in the {col} is {df[col].isnull().sum()}\")"
   ]
  },
  {
   "cell_type": "markdown",
   "id": "3799e4e9",
   "metadata": {
    "slideshow": {
     "slide_type": "slide"
    }
   },
   "source": [
    "## Employee Age analysis"
   ]
  },
  {
   "cell_type": "code",
   "execution_count": null,
   "id": "41c7050c",
   "metadata": {
    "slideshow": {
     "slide_type": "slide"
    }
   },
   "outputs": [],
   "source": [
    "info_of_numerical('Age')"
   ]
  },
  {
   "cell_type": "code",
   "execution_count": null,
   "id": "89bc0c7a",
   "metadata": {
    "slideshow": {
     "slide_type": "skip"
    }
   },
   "outputs": [],
   "source": [
    "df['Age'].median()"
   ]
  },
  {
   "cell_type": "code",
   "execution_count": null,
   "id": "888bac0a",
   "metadata": {
    "slideshow": {
     "slide_type": "fragment"
    }
   },
   "outputs": [],
   "source": [
    "df['Age'].fillna(df['Age'].median(),inplace=True)"
   ]
  },
  {
   "cell_type": "code",
   "execution_count": null,
   "id": "1399606d",
   "metadata": {
    "slideshow": {
     "slide_type": "fragment"
    }
   },
   "outputs": [],
   "source": [
    "info_of_numerical('Age')"
   ]
  },
  {
   "cell_type": "code",
   "execution_count": null,
   "id": "2c74cef1",
   "metadata": {
    "slideshow": {
     "slide_type": "slide"
    }
   },
   "outputs": [],
   "source": [
    "fig, ax=plt.subplots(1,2,figsize=(15,7))\n",
    "sns.histplot(x=df[\"Age\"], ax=ax[0],color='b')\n",
    "sns.boxplot(x=df[\"Age\"], ax=ax[1],color='green')"
   ]
  },
  {
   "cell_type": "markdown",
   "id": "09905768",
   "metadata": {
    "slideshow": {
     "slide_type": "fragment"
    }
   },
   "source": [
    "#### Interpretation - Majority of the employees working for the comapany are range of 25 to 40 yrs of Age"
   ]
  },
  {
   "cell_type": "markdown",
   "id": "9c611f66",
   "metadata": {
    "slideshow": {
     "slide_type": "slide"
    }
   },
   "source": [
    "## Business Travel Analysis"
   ]
  },
  {
   "cell_type": "code",
   "execution_count": null,
   "id": "a02d54cf",
   "metadata": {
    "slideshow": {
     "slide_type": "slide"
    }
   },
   "outputs": [],
   "source": [
    "info_of_cat('BusinessTravel')"
   ]
  },
  {
   "cell_type": "code",
   "execution_count": null,
   "id": "ffd7e696",
   "metadata": {
    "slideshow": {
     "slide_type": "fragment"
    }
   },
   "outputs": [],
   "source": [
    "df['BusinessTravel'].fillna(df['BusinessTravel'].mode()[0],inplace=True)"
   ]
  },
  {
   "cell_type": "code",
   "execution_count": null,
   "id": "8a0652fd",
   "metadata": {
    "slideshow": {
     "slide_type": "fragment"
    }
   },
   "outputs": [],
   "source": [
    "info_of_cat('BusinessTravel')"
   ]
  },
  {
   "cell_type": "code",
   "execution_count": null,
   "id": "5a118e8c",
   "metadata": {
    "slideshow": {
     "slide_type": "slide"
    }
   },
   "outputs": [],
   "source": [
    "fig,ax=plt.subplots(1,2,figsize=(15,7))\n",
    "ax[0].set_title('Business Travel Status')\n",
    "percentage=df['BusinessTravel'].value_counts()\n",
    "sns.countplot(x=df['BusinessTravel'],ax=ax[0])\n",
    "plt.pie(x=percentage,labels=percentage.index,autopct=\"%0.02f%%\")\n",
    "plt.show()"
   ]
  },
  {
   "cell_type": "markdown",
   "id": "571f7e7b",
   "metadata": {
    "slideshow": {
     "slide_type": "fragment"
    }
   },
   "source": [
    "### Interpretation - Out of total number of employees 18% travel frequently, 72% travel rarely and 10% never travel for the company."
   ]
  },
  {
   "cell_type": "markdown",
   "id": "09b4a876",
   "metadata": {
    "slideshow": {
     "slide_type": "slide"
    }
   },
   "source": [
    "## Departments Analysis"
   ]
  },
  {
   "cell_type": "code",
   "execution_count": null,
   "id": "3ea4e96c",
   "metadata": {
    "slideshow": {
     "slide_type": "slide"
    }
   },
   "outputs": [],
   "source": [
    "info_of_cat('Department')"
   ]
  },
  {
   "cell_type": "code",
   "execution_count": null,
   "id": "c0507bb4",
   "metadata": {
    "slideshow": {
     "slide_type": "fragment"
    }
   },
   "outputs": [],
   "source": [
    "df['Department'].fillna(df['Department'].mode()[0],inplace=True)"
   ]
  },
  {
   "cell_type": "code",
   "execution_count": null,
   "id": "29be356a",
   "metadata": {
    "slideshow": {
     "slide_type": "fragment"
    }
   },
   "outputs": [],
   "source": [
    "info_of_cat('Department')"
   ]
  },
  {
   "cell_type": "code",
   "execution_count": null,
   "id": "92c44bf7",
   "metadata": {
    "slideshow": {
     "slide_type": "slide"
    }
   },
   "outputs": [],
   "source": [
    "fig,ax=plt.subplots(1,2,figsize=(15,7))\n",
    "ax[0].set_title('Departments')\n",
    "percentage=df['Department'].value_counts()\n",
    "labels=percentage.index\n",
    "sns.countplot(x=df[\"Department\"],ax=ax[0])\n",
    "plt.pie(x=percentage,labels=labels,autopct=\"%0.02f%%\")\n",
    "\n",
    "plt.show()\n",
    "\n"
   ]
  },
  {
   "cell_type": "markdown",
   "id": "3f83ad8d",
   "metadata": {
    "slideshow": {
     "slide_type": "fragment"
    }
   },
   "source": [
    "### Interpretation - More than 65% of employees are engaged in Research & Development and more than 30% are engaged in Sales department."
   ]
  },
  {
   "cell_type": "markdown",
   "id": "a8d932e1",
   "metadata": {
    "slideshow": {
     "slide_type": "slide"
    }
   },
   "source": [
    "## Analysis for Distance from home"
   ]
  },
  {
   "cell_type": "code",
   "execution_count": null,
   "id": "628f864f",
   "metadata": {
    "slideshow": {
     "slide_type": "skip"
    }
   },
   "outputs": [],
   "source": [
    "info_of_cat(\"DistanceFromHome\")"
   ]
  },
  {
   "cell_type": "code",
   "execution_count": null,
   "id": "9a89a063",
   "metadata": {
    "slideshow": {
     "slide_type": "skip"
    }
   },
   "outputs": [],
   "source": [
    "df[\"DistanceFromHome\"].max()"
   ]
  },
  {
   "cell_type": "code",
   "execution_count": null,
   "id": "cf711aea",
   "metadata": {
    "slideshow": {
     "slide_type": "skip"
    }
   },
   "outputs": [],
   "source": [
    "df[\"DistanceFromHome\"].min()"
   ]
  },
  {
   "cell_type": "code",
   "execution_count": null,
   "id": "31594b13",
   "metadata": {
    "slideshow": {
     "slide_type": "skip"
    }
   },
   "outputs": [],
   "source": [
    "a=0\n",
    "b=0\n",
    "c=0\n",
    "d=0\n",
    "for i in df['DistanceFromHome']:\n",
    "    if i>=1 and i<=5:\n",
    "        a=a+1\n",
    "    elif i>5 and i<=10:\n",
    "        b=b+1\n",
    "    elif i>10 and i<=20:\n",
    "        c=c+1\n",
    "    else:\n",
    "        d=d+1\n",
    "dist_range=['0-5kms','6-10kms','11-20kms','21-30kms']\n",
    "count=[a,b,c,d]\n",
    "df1=pd.DataFrame(count,index=dist_range)"
   ]
  },
  {
   "cell_type": "code",
   "execution_count": null,
   "id": "8c457237",
   "metadata": {
    "slideshow": {
     "slide_type": "slide"
    }
   },
   "outputs": [],
   "source": [
    "df1.columns=[\"Count_of_employees\"]\n",
    "df1"
   ]
  },
  {
   "cell_type": "code",
   "execution_count": null,
   "id": "394eb7bb",
   "metadata": {
    "slideshow": {
     "slide_type": "skip"
    }
   },
   "outputs": [],
   "source": [
    "dist=df1.index.tolist()"
   ]
  },
  {
   "cell_type": "code",
   "execution_count": null,
   "id": "dccacd15",
   "metadata": {
    "slideshow": {
     "slide_type": "skip"
    }
   },
   "outputs": [],
   "source": [
    "countofemployees=df1.iloc[:,0].tolist()"
   ]
  },
  {
   "cell_type": "code",
   "execution_count": null,
   "id": "ec635815",
   "metadata": {
    "slideshow": {
     "slide_type": "slide"
    }
   },
   "outputs": [],
   "source": [
    "fig,ax=plt.subplots(figsize=(5,5))\n",
    "ax.set_title(\"Distance From Home and Count of Employees Respectively\")\n",
    "percentage=countofemployees\n",
    "labels=dist\n",
    "plt.pie(x=percentage,labels=labels,autopct=\"%0.02f%%\")\n",
    "plt.show()"
   ]
  },
  {
   "cell_type": "code",
   "execution_count": null,
   "id": "db743b1d",
   "metadata": {
    "slideshow": {
     "slide_type": "slide"
    }
   },
   "outputs": [],
   "source": [
    "plt.title(\"Distance From Home\")\n",
    "plt.bar(dist,countofemployees)\n",
    "plt.show()"
   ]
  },
  {
   "cell_type": "markdown",
   "id": "e1c5cc05",
   "metadata": {
    "slideshow": {
     "slide_type": "fragment"
    }
   },
   "source": [
    "#### Interpretation - As above pie and bar chart indicates employees 42% reside in 0-5kms, 27% reside within 6-10kms,17% reside within 11-20kms, 14% reside within 21-30kms distance from company. So number of employees decrease as the distance between company and employees from home increases."
   ]
  },
  {
   "cell_type": "markdown",
   "id": "29dd39dd",
   "metadata": {
    "slideshow": {
     "slide_type": "slide"
    }
   },
   "source": [
    "## Analysis for JobRole"
   ]
  },
  {
   "cell_type": "code",
   "execution_count": null,
   "id": "b67018d0",
   "metadata": {
    "slideshow": {
     "slide_type": "fragment"
    }
   },
   "outputs": [],
   "source": [
    "info_of_cat('JobRole')"
   ]
  },
  {
   "cell_type": "code",
   "execution_count": null,
   "id": "8a221777",
   "metadata": {
    "slideshow": {
     "slide_type": "fragment"
    }
   },
   "outputs": [],
   "source": [
    "df['JobRole'].fillna(df['JobRole'].mode()[0],inplace=True)"
   ]
  },
  {
   "cell_type": "code",
   "execution_count": null,
   "id": "b213c250",
   "metadata": {
    "slideshow": {
     "slide_type": "fragment"
    }
   },
   "outputs": [],
   "source": [
    "info_of_cat('JobRole')"
   ]
  },
  {
   "cell_type": "code",
   "execution_count": 2,
   "id": "e07fda00",
   "metadata": {
    "slideshow": {
     "slide_type": "slide"
    }
   },
   "outputs": [
    {
     "ename": "NameError",
     "evalue": "name 'plt' is not defined",
     "output_type": "error",
     "traceback": [
      "\u001b[1;31m---------------------------------------------------------------------------\u001b[0m",
      "\u001b[1;31mNameError\u001b[0m                                 Traceback (most recent call last)",
      "\u001b[1;32m~\\AppData\\Local\\Temp\\ipykernel_7868\\2009862330.py\u001b[0m in \u001b[0;36m<module>\u001b[1;34m\u001b[0m\n\u001b[1;32m----> 1\u001b[1;33m \u001b[0mfig\u001b[0m\u001b[1;33m,\u001b[0m\u001b[0max\u001b[0m\u001b[1;33m=\u001b[0m\u001b[0mplt\u001b[0m\u001b[1;33m.\u001b[0m\u001b[0msubplots\u001b[0m\u001b[1;33m(\u001b[0m\u001b[1;36m1\u001b[0m\u001b[1;33m,\u001b[0m\u001b[1;36m2\u001b[0m\u001b[1;33m,\u001b[0m\u001b[0mfigsize\u001b[0m\u001b[1;33m=\u001b[0m\u001b[1;33m(\u001b[0m\u001b[1;36m15\u001b[0m\u001b[1;33m,\u001b[0m\u001b[1;36m7\u001b[0m\u001b[1;33m)\u001b[0m\u001b[1;33m)\u001b[0m\u001b[1;33m\u001b[0m\u001b[1;33m\u001b[0m\u001b[0m\n\u001b[0m\u001b[0;32m      2\u001b[0m \u001b[0max\u001b[0m\u001b[1;33m[\u001b[0m\u001b[1;36m0\u001b[0m\u001b[1;33m]\u001b[0m\u001b[1;33m.\u001b[0m\u001b[0mset_title\u001b[0m\u001b[1;33m(\u001b[0m\u001b[1;34m'JobRole'\u001b[0m\u001b[1;33m)\u001b[0m\u001b[1;33m\u001b[0m\u001b[1;33m\u001b[0m\u001b[0m\n\u001b[0;32m      3\u001b[0m \u001b[0mpercentage\u001b[0m\u001b[1;33m=\u001b[0m\u001b[0mdf\u001b[0m\u001b[1;33m[\u001b[0m\u001b[1;34m'JobRole'\u001b[0m\u001b[1;33m]\u001b[0m\u001b[1;33m.\u001b[0m\u001b[0mvalue_counts\u001b[0m\u001b[1;33m(\u001b[0m\u001b[1;33m)\u001b[0m\u001b[1;33m\u001b[0m\u001b[1;33m\u001b[0m\u001b[0m\n\u001b[0;32m      4\u001b[0m \u001b[0mlabels\u001b[0m\u001b[1;33m=\u001b[0m\u001b[0mpercentage\u001b[0m\u001b[1;33m.\u001b[0m\u001b[0mindex\u001b[0m\u001b[1;33m\u001b[0m\u001b[1;33m\u001b[0m\u001b[0m\n\u001b[0;32m      5\u001b[0m \u001b[0mg\u001b[0m\u001b[1;33m=\u001b[0m\u001b[0msns\u001b[0m\u001b[1;33m.\u001b[0m\u001b[0mcountplot\u001b[0m\u001b[1;33m(\u001b[0m\u001b[0mx\u001b[0m\u001b[1;33m=\u001b[0m\u001b[0mdf\u001b[0m\u001b[1;33m[\u001b[0m\u001b[1;34m\"JobRole\"\u001b[0m\u001b[1;33m]\u001b[0m\u001b[1;33m,\u001b[0m\u001b[0max\u001b[0m\u001b[1;33m=\u001b[0m\u001b[0max\u001b[0m\u001b[1;33m[\u001b[0m\u001b[1;36m0\u001b[0m\u001b[1;33m]\u001b[0m\u001b[1;33m)\u001b[0m\u001b[1;33m\u001b[0m\u001b[1;33m\u001b[0m\u001b[0m\n",
      "\u001b[1;31mNameError\u001b[0m: name 'plt' is not defined"
     ]
    }
   ],
   "source": [
    "fig,ax=plt.subplots(1,2,figsize=(15,7))\n",
    "ax[0].set_title('JobRole')\n",
    "percentage=df['JobRole'].value_counts()\n",
    "labels=percentage.index\n",
    "g=sns.countplot(x=df[\"JobRole\"],ax=ax[0])\n",
    "g.set_xticklabels(labels=labels,rotation=45)\n",
    "plt.pie(x=percentage,labels=labels,autopct=\"%0.02f%%\")\n",
    "plt.show()"
   ]
  },
  {
   "cell_type": "markdown",
   "id": "6a4d5c3a",
   "metadata": {
    "slideshow": {
     "slide_type": "fragment"
    }
   },
   "source": [
    "#### Interpretation - No. of Employees working as Sales Executive, Research Scientist and Laboratory Technician are together 60% of total count of whch sales executives take almost 23% in counts."
   ]
  },
  {
   "cell_type": "markdown",
   "id": "600e7bff",
   "metadata": {
    "slideshow": {
     "slide_type": "slide"
    }
   },
   "source": [
    "## Analysis for OverTime"
   ]
  },
  {
   "cell_type": "code",
   "execution_count": null,
   "id": "85fa8294",
   "metadata": {
    "slideshow": {
     "slide_type": "skip"
    }
   },
   "outputs": [],
   "source": [
    "info_of_cat('OverTime')"
   ]
  },
  {
   "cell_type": "code",
   "execution_count": null,
   "id": "b39915d5",
   "metadata": {
    "slideshow": {
     "slide_type": "slide"
    }
   },
   "outputs": [],
   "source": [
    "fig,ax=plt.subplots(1,2,figsize=(15,7))\n",
    "ax[0].set_title('OverTime')\n",
    "percentage=df['OverTime'].value_counts()\n",
    "labels=percentage.index\n",
    "sns.countplot(x=df[\"OverTime\"],ax=ax[0])\n",
    "plt.pie(x=percentage,labels=labels,autopct=\"%0.02f%%\")\n",
    "plt.show()"
   ]
  },
  {
   "cell_type": "markdown",
   "id": "77d05f66",
   "metadata": {
    "slideshow": {
     "slide_type": "fragment"
    }
   },
   "source": [
    "#### Only 28.3% of employees are working over time as per the data."
   ]
  },
  {
   "cell_type": "markdown",
   "id": "52be6474",
   "metadata": {
    "slideshow": {
     "slide_type": "slide"
    }
   },
   "source": [
    "## Analysis of Employees Performance Rating"
   ]
  },
  {
   "cell_type": "code",
   "execution_count": null,
   "id": "eb46e472",
   "metadata": {
    "slideshow": {
     "slide_type": "skip"
    }
   },
   "outputs": [],
   "source": [
    "info_of_cat('PerformanceRating')"
   ]
  },
  {
   "cell_type": "code",
   "execution_count": null,
   "id": "397c6533",
   "metadata": {
    "slideshow": {
     "slide_type": "skip"
    }
   },
   "outputs": [],
   "source": []
  },
  {
   "cell_type": "code",
   "execution_count": null,
   "id": "126d5b03",
   "metadata": {
    "slideshow": {
     "slide_type": "slide"
    }
   },
   "outputs": [],
   "source": [
    "fig,ax=plt.subplots(1,2,figsize=(15,7))\n",
    "ax[0].set_title('PerformanceRating')\n",
    "percentage=df['PerformanceRating'].value_counts()\n",
    "labels=percentage.index\n",
    "sns.countplot(x=df[\"PerformanceRating\"],ax=ax[0])\n",
    "plt.pie(x=percentage,labels=labels,autopct=\"%0.02f%%\")\n",
    "plt.show()"
   ]
  },
  {
   "cell_type": "markdown",
   "id": "8e2ea0ab",
   "metadata": {
    "slideshow": {
     "slide_type": "fragment"
    }
   },
   "source": [
    "#### Interpretation - More than 84% of emmployees have been rated 3 out of 5 for their performance and other have, 4 out of 5"
   ]
  },
  {
   "cell_type": "markdown",
   "id": "760e1a0d",
   "metadata": {
    "slideshow": {
     "slide_type": "slide"
    }
   },
   "source": [
    "## Analysis considering Gender"
   ]
  },
  {
   "cell_type": "code",
   "execution_count": null,
   "id": "d1de2556",
   "metadata": {
    "slideshow": {
     "slide_type": "slide"
    }
   },
   "outputs": [],
   "source": [
    "info_of_cat('Gender')"
   ]
  },
  {
   "cell_type": "code",
   "execution_count": null,
   "id": "6fd20116",
   "metadata": {
    "slideshow": {
     "slide_type": "-"
    }
   },
   "outputs": [],
   "source": [
    "df['Gender'].fillna(df['Gender'].mode()[0],inplace=True)"
   ]
  },
  {
   "cell_type": "code",
   "execution_count": null,
   "id": "4d571347",
   "metadata": {
    "slideshow": {
     "slide_type": "skip"
    }
   },
   "outputs": [],
   "source": []
  },
  {
   "cell_type": "code",
   "execution_count": null,
   "id": "c379e9cc",
   "metadata": {
    "slideshow": {
     "slide_type": "slide"
    }
   },
   "outputs": [],
   "source": [
    "fig,ax=plt.subplots(1,2,figsize=(15,7))\n",
    "ax[0].set_title('Gender')\n",
    "percentage=df['Gender'].value_counts()\n",
    "labels=percentage.index\n",
    "sns.countplot(x=df[\"Gender\"],ax=ax[0])\n",
    "plt.pie(x=percentage,labels=labels,autopct=\"%0.02f%%\")\n",
    "plt.show()"
   ]
  },
  {
   "cell_type": "markdown",
   "id": "401f7af4",
   "metadata": {
    "slideshow": {
     "slide_type": "fragment"
    }
   },
   "source": [
    "#### Interpretation - Company is having approximately 61% of Male and 39% of Female employees."
   ]
  },
  {
   "cell_type": "markdown",
   "id": "638cbf3a",
   "metadata": {
    "slideshow": {
     "slide_type": "slide"
    }
   },
   "source": [
    "## TrainingTimesLastYear Analysis"
   ]
  },
  {
   "cell_type": "code",
   "execution_count": null,
   "id": "d0de1e38",
   "metadata": {
    "slideshow": {
     "slide_type": "skip"
    }
   },
   "outputs": [],
   "source": [
    "info_of_cat('TrainingTimesLastYear')"
   ]
  },
  {
   "cell_type": "code",
   "execution_count": null,
   "id": "8b5131f3",
   "metadata": {
    "slideshow": {
     "slide_type": "skip"
    }
   },
   "outputs": [],
   "source": []
  },
  {
   "cell_type": "code",
   "execution_count": null,
   "id": "8680abdd",
   "metadata": {
    "slideshow": {
     "slide_type": "slide"
    }
   },
   "outputs": [],
   "source": [
    "fig,ax=plt.subplots(1,2,figsize=(15,7))\n",
    "ax[0].set_title('TrainingTimesLastYear')\n",
    "percentage=df['TrainingTimesLastYear'].value_counts()\n",
    "labels=percentage.index\n",
    "sns.countplot(x=df[\"TrainingTimesLastYear\"],ax=ax[0])\n",
    "plt.pie(x=percentage,labels=labels,autopct=\"%0.02f%%\")\n",
    "plt.show()"
   ]
  },
  {
   "cell_type": "markdown",
   "id": "3d61c647",
   "metadata": {
    "slideshow": {
     "slide_type": "fragment"
    }
   },
   "source": [
    "#### Interpretation - Around 70% of empoyees had their trainings 2-3 years ago and rest others have been trained more than 3 years ago keeping the expection for 8.5% employees who were trained less than or a year ago"
   ]
  },
  {
   "cell_type": "markdown",
   "id": "58336ac8",
   "metadata": {
    "slideshow": {
     "slide_type": "slide"
    }
   },
   "source": [
    "## Analysis for Numerical or Continuous Data columns"
   ]
  },
  {
   "cell_type": "code",
   "execution_count": null,
   "id": "c0ecba6d",
   "metadata": {
    "slideshow": {
     "slide_type": "skip"
    }
   },
   "outputs": [],
   "source": [
    "def info_of_numerical(col):\n",
    "    print(f\"The mean of the {col} is {df[col].mean()}\")\n",
    "    print(f\"The median of the {col} is {df[col].median()}\")\n",
    "    print(f\"The mode of the {col} is {df[col].mode()[0]}\")\n",
    "    print(f\"The standard deviation of the {col} is {df[col].std()}\")\n",
    "    print(f\"Number of missing values in the {col} is {df[col].isnull().sum()}\")"
   ]
  },
  {
   "cell_type": "markdown",
   "id": "6a13ac8b",
   "metadata": {
    "slideshow": {
     "slide_type": "slide"
    }
   },
   "source": [
    "## Analysis for HourlyRate"
   ]
  },
  {
   "cell_type": "code",
   "execution_count": null,
   "id": "f2bd5499",
   "metadata": {
    "slideshow": {
     "slide_type": "skip"
    }
   },
   "outputs": [],
   "source": [
    "info_of_numerical('HourlyRate')"
   ]
  },
  {
   "cell_type": "code",
   "execution_count": null,
   "id": "3d92796c",
   "metadata": {
    "slideshow": {
     "slide_type": "slide"
    }
   },
   "outputs": [],
   "source": [
    "fig, ax=plt.subplots(1,2,figsize=(20,7))\n",
    "sns.histplot(x=df[\"HourlyRate\"], ax=ax[0],color='b')\n",
    "sns.boxplot(x=df[\"HourlyRate\"], ax=ax[1],color='green')"
   ]
  },
  {
   "cell_type": "markdown",
   "id": "d66546cf",
   "metadata": {
    "slideshow": {
     "slide_type": "fragment"
    }
   },
   "source": [
    "#### Hourly rates for the employees lie in the range of 30 to 100. There majority of employees lie in the range of 45 to 85. Also the data shows no skew ness with respect to its median."
   ]
  },
  {
   "cell_type": "code",
   "execution_count": null,
   "id": "65d12f13",
   "metadata": {
    "slideshow": {
     "slide_type": "skip"
    }
   },
   "outputs": [],
   "source": []
  },
  {
   "cell_type": "markdown",
   "id": "87620665",
   "metadata": {
    "slideshow": {
     "slide_type": "slide"
    }
   },
   "source": [
    "## Analysis for MonthlyIncome"
   ]
  },
  {
   "cell_type": "code",
   "execution_count": null,
   "id": "8142f418",
   "metadata": {
    "slideshow": {
     "slide_type": "skip"
    }
   },
   "outputs": [],
   "source": [
    "info_of_numerical(\"MonthlyIncome\")"
   ]
  },
  {
   "cell_type": "code",
   "execution_count": null,
   "id": "52efca0c",
   "metadata": {
    "slideshow": {
     "slide_type": "slide"
    }
   },
   "outputs": [],
   "source": [
    "fig, ax = plt.subplots(1,2,figsize=(20,7))\n",
    "sns.boxplot(x=df[\"MonthlyIncome\"], ax=ax[0], color='green')\n",
    "sns.histplot(x=df[\"MonthlyIncome\"], ax=ax[1], color='b')\n",
    "plt.show()"
   ]
  },
  {
   "cell_type": "markdown",
   "id": "99c2a07f",
   "metadata": {
    "slideshow": {
     "slide_type": "fragment"
    }
   },
   "source": [
    "#### Interpretation - Most of the employees have salaries in the range 3000 to 8000. Although the box plot shows some skewness from the median salary saying more emplyees are having salary lower than the average of total salaries."
   ]
  },
  {
   "cell_type": "markdown",
   "id": "30018a2d",
   "metadata": {
    "slideshow": {
     "slide_type": "slide"
    }
   },
   "source": [
    "### Level-2 Analysis"
   ]
  },
  {
   "cell_type": "code",
   "execution_count": null,
   "id": "16a829d1",
   "metadata": {
    "slideshow": {
     "slide_type": "skip"
    }
   },
   "outputs": [],
   "source": []
  },
  {
   "cell_type": "code",
   "execution_count": null,
   "id": "b01eab04",
   "metadata": {
    "slideshow": {
     "slide_type": "skip"
    }
   },
   "outputs": [],
   "source": [
    "categorical,continuous=seperate_data_types(df)\n",
    "\n",
    "from tabulate import tabulate\n",
    "table = [categorical, continuous]\n",
    "print(tabulate({\"Categorical\":categorical,\n",
    "                \"continuous\": continuous}, headers = [\"categorical\", \"continuous\"]))"
   ]
  },
  {
   "cell_type": "markdown",
   "id": "7f2f0063",
   "metadata": {
    "slideshow": {
     "slide_type": "slide"
    }
   },
   "source": [
    "## Studying Attrition with respect to DistanceFromHome"
   ]
  },
  {
   "cell_type": "code",
   "execution_count": null,
   "id": "93cef4fc",
   "metadata": {
    "slideshow": {
     "slide_type": "slide"
    }
   },
   "outputs": [],
   "source": [
    "fig,ax = plt.subplots(figsize=(15,7))\n",
    "sns.countplot(x = \"DistanceFromHome\", hue = \"Attrition\", data = df)\n",
    "plt.show()"
   ]
  },
  {
   "cell_type": "markdown",
   "id": "09f891b8",
   "metadata": {
    "slideshow": {
     "slide_type": "fragment"
    }
   },
   "source": [
    "#### Interpretation : For the employees with their home within 10kms, the attrition count is very low as compared to the employees still working with the company."
   ]
  },
  {
   "cell_type": "markdown",
   "id": "02e8d2a0",
   "metadata": {
    "slideshow": {
     "slide_type": "slide"
    }
   },
   "source": [
    "### Studying Attrition with respect to Department"
   ]
  },
  {
   "cell_type": "code",
   "execution_count": null,
   "id": "e1b76cf8",
   "metadata": {
    "slideshow": {
     "slide_type": "skip"
    }
   },
   "outputs": [],
   "source": [
    "info_of_cat(\"Department\")"
   ]
  },
  {
   "cell_type": "code",
   "execution_count": null,
   "id": "b1b257c2",
   "metadata": {
    "slideshow": {
     "slide_type": "skip"
    }
   },
   "outputs": [],
   "source": [
    "df[\"Department\"].mode()"
   ]
  },
  {
   "cell_type": "code",
   "execution_count": null,
   "id": "88a26f29",
   "metadata": {
    "slideshow": {
     "slide_type": "skip"
    }
   },
   "outputs": [],
   "source": [
    "dept=df[\"Department\"].fillna(\"Research & Development\", inplace=True)"
   ]
  },
  {
   "cell_type": "code",
   "execution_count": null,
   "id": "d250a8e7",
   "metadata": {
    "slideshow": {
     "slide_type": "skip"
    }
   },
   "outputs": [],
   "source": [
    "info_of_cat(\"Department\")"
   ]
  },
  {
   "cell_type": "code",
   "execution_count": null,
   "id": "dc6140fd",
   "metadata": {
    "slideshow": {
     "slide_type": "slide"
    }
   },
   "outputs": [],
   "source": [
    "fig,ax=plt.subplots(figsize=(15,7))\n",
    "sns.countplot(x=df[\"Department\"],hue=df[\"Attrition\"])\n",
    "plt.show()"
   ]
  },
  {
   "cell_type": "markdown",
   "id": "4bfe39b5",
   "metadata": {
    "slideshow": {
     "slide_type": "fragment"
    }
   },
   "source": [
    "#### Interpretation:Majority of the attrition have been hapennig from the Sales and R&D deparment. Cpunt of attrition in R&D department is 2 times that of in sales department."
   ]
  },
  {
   "cell_type": "markdown",
   "id": "291cee71",
   "metadata": {
    "slideshow": {
     "slide_type": "slide"
    }
   },
   "source": [
    "### Studying Attrition with respect to Age"
   ]
  },
  {
   "cell_type": "code",
   "execution_count": null,
   "id": "e6997557",
   "metadata": {
    "slideshow": {
     "slide_type": "skip"
    }
   },
   "outputs": [],
   "source": [
    "info_of_cat(\"Age\")"
   ]
  },
  {
   "cell_type": "code",
   "execution_count": null,
   "id": "94854bae",
   "metadata": {
    "slideshow": {
     "slide_type": "skip"
    }
   },
   "outputs": [],
   "source": [
    "df['Age'].fillna(df['Age'].mode()[0], inplace=True)"
   ]
  },
  {
   "cell_type": "code",
   "execution_count": null,
   "id": "ca78d4a9",
   "metadata": {
    "slideshow": {
     "slide_type": "skip"
    }
   },
   "outputs": [],
   "source": [
    "info_of_cat(\"Age\")"
   ]
  },
  {
   "cell_type": "code",
   "execution_count": null,
   "id": "a91dd39f",
   "metadata": {
    "slideshow": {
     "slide_type": "slide"
    }
   },
   "outputs": [],
   "source": [
    "fig,ax=plt.subplots(figsize=(25,7))\n",
    "sns.countplot(x=df[\"Age\"], hue=df[\"Attrition\"])\n",
    "plt.show()"
   ]
  },
  {
   "cell_type": "markdown",
   "id": "49d4e753",
   "metadata": {
    "slideshow": {
     "slide_type": "fragment"
    }
   },
   "source": [
    "#### Attrition of employees are more for age group 26 to 38 years. With increase in age attrition is reduced."
   ]
  },
  {
   "cell_type": "markdown",
   "id": "ee7a57d8",
   "metadata": {
    "slideshow": {
     "slide_type": "slide"
    }
   },
   "source": [
    "### Studying Attrition with respect to BusinessTravel"
   ]
  },
  {
   "cell_type": "code",
   "execution_count": null,
   "id": "f3534854",
   "metadata": {
    "slideshow": {
     "slide_type": "skip"
    }
   },
   "outputs": [],
   "source": [
    "info_of_cat('BusinessTravel')"
   ]
  },
  {
   "cell_type": "code",
   "execution_count": null,
   "id": "1fa0626e",
   "metadata": {
    "slideshow": {
     "slide_type": "skip"
    }
   },
   "outputs": [],
   "source": [
    "df[\"BusinessTravel\"].fillna(df[\"BusinessTravel\"].mode()[0], inplace=True)"
   ]
  },
  {
   "cell_type": "code",
   "execution_count": null,
   "id": "d3727835",
   "metadata": {
    "slideshow": {
     "slide_type": "skip"
    }
   },
   "outputs": [],
   "source": [
    "info_of_cat('BusinessTravel')"
   ]
  },
  {
   "cell_type": "code",
   "execution_count": null,
   "id": "95283226",
   "metadata": {
    "slideshow": {
     "slide_type": "skip"
    }
   },
   "outputs": [],
   "source": [
    "ay=0\n",
    "an=0\n",
    "by=0\n",
    "bn=0\n",
    "cy=0\n",
    "cn=0\n",
    "for i in range(0,len(df)):\n",
    "    if (df.loc[i,'BusinessTravel']=='Travel_Rarely') & (df.loc[i,'Attrition']=='Yes'):\n",
    "        ay=ay+1\n",
    "    elif (df.loc[i,'BusinessTravel']=='Travel_Rarely') & (df.loc[i,'Attrition']=='No'):\n",
    "        an=an+1\n",
    "    elif (df.loc[i,'BusinessTravel']=='Travel_Frequently') & (df.loc[i,'Attrition']=='Yes'):\n",
    "        by=by+1\n",
    "    elif (df.loc[i,'BusinessTravel']=='Travel_Frequently') & (df.loc[i,'Attrition']=='No'):\n",
    "        bn=bn+1\n",
    "    elif (df.loc[i,'BusinessTravel']=='Non-Travel') & (df.loc[i,'Attrition']=='Yes'):\n",
    "        cy=cy+1\n",
    "    else:\n",
    "        cn=cn+1\n",
    "print(ay)\n",
    "print(an)\n",
    "print(by)\n",
    "print(bn)\n",
    "print(cy)\n",
    "print(cn)\n"
   ]
  },
  {
   "cell_type": "code",
   "execution_count": null,
   "id": "e837957c",
   "metadata": {
    "slideshow": {
     "slide_type": "slide"
    }
   },
   "outputs": [],
   "source": [
    "Travel_Rarely=[ay,an]\n",
    "Travel_Frequently=[by,bn]\n",
    "Non_Travel=[cy,cn]\n",
    "\n",
    "df2=pd.DataFrame([Travel_Rarely,Travel_Frequently,Non_Travel],columns=['Yes','No'],index=['Travel_Rarely','Travel_Frequently','Non-Travel'])\n",
    "df2.plot(kind='bar',stacked=True,color=['blue','orange','green'])\n",
    "plt.show()"
   ]
  },
  {
   "cell_type": "markdown",
   "id": "6ed24d3f",
   "metadata": {
    "slideshow": {
     "slide_type": "fragment"
    }
   },
   "source": [
    "#### Bar chart indicates thats employees Travelling rarely show only 15% attrition, for the employees travelling frequently show about 25% attrition and employees that do not travel show only 7.5% attrition. So, we can say that tarvlling frequently leads to higher attrition"
   ]
  },
  {
   "cell_type": "markdown",
   "id": "c45b62fd",
   "metadata": {
    "slideshow": {
     "slide_type": "slide"
    }
   },
   "source": [
    "## Studying Attrition with respect to Education Field"
   ]
  },
  {
   "cell_type": "code",
   "execution_count": null,
   "id": "685447e4",
   "metadata": {
    "slideshow": {
     "slide_type": "slide"
    }
   },
   "outputs": [],
   "source": [
    "info_of_cat('EducationField')"
   ]
  },
  {
   "cell_type": "code",
   "execution_count": null,
   "id": "6fb26f65",
   "metadata": {
    "slideshow": {
     "slide_type": "fragment"
    }
   },
   "outputs": [],
   "source": [
    "df['EducationField'].fillna(df['EducationField'].mode()[0], inplace=True)"
   ]
  },
  {
   "cell_type": "code",
   "execution_count": null,
   "id": "82ac2b65",
   "metadata": {
    "slideshow": {
     "slide_type": "fragment"
    }
   },
   "outputs": [],
   "source": [
    "info_of_cat('EducationField')"
   ]
  },
  {
   "cell_type": "code",
   "execution_count": null,
   "id": "a6312519",
   "metadata": {
    "slideshow": {
     "slide_type": "slide"
    }
   },
   "outputs": [],
   "source": [
    "sns.countplot(x='EducationField',hue='Attrition',data=df)"
   ]
  },
  {
   "cell_type": "markdown",
   "id": "2ea31610",
   "metadata": {
    "slideshow": {
     "slide_type": "fragment"
    }
   },
   "source": [
    "#### Count of attrition have been very high for employees from Life Sciences and Medical Field."
   ]
  },
  {
   "cell_type": "markdown",
   "id": "7da3e75c",
   "metadata": {
    "slideshow": {
     "slide_type": "slide"
    }
   },
   "source": [
    "## Gender wise analysis for Attrition"
   ]
  },
  {
   "cell_type": "code",
   "execution_count": null,
   "id": "79285def",
   "metadata": {
    "slideshow": {
     "slide_type": "skip"
    }
   },
   "outputs": [],
   "source": [
    "info_of_cat('Gender')"
   ]
  },
  {
   "cell_type": "code",
   "execution_count": null,
   "id": "789a52f0",
   "metadata": {
    "slideshow": {
     "slide_type": "slide"
    }
   },
   "outputs": [],
   "source": [
    "sns.countplot(x='Gender',hue='Attrition',data=df)"
   ]
  },
  {
   "cell_type": "markdown",
   "id": "360461a6",
   "metadata": {
    "slideshow": {
     "slide_type": "fragment"
    }
   },
   "source": [
    "#### Female and Male employees show almost same level of attrition as compared to their count."
   ]
  },
  {
   "cell_type": "markdown",
   "id": "ad5a8d3d",
   "metadata": {
    "slideshow": {
     "slide_type": "slide"
    }
   },
   "source": [
    "## Attrition analysis based on Job Role"
   ]
  },
  {
   "cell_type": "code",
   "execution_count": null,
   "id": "236d3be7",
   "metadata": {},
   "outputs": [],
   "source": [
    "info_of_cat('JobRole')"
   ]
  },
  {
   "cell_type": "code",
   "execution_count": null,
   "id": "fa4383d0",
   "metadata": {
    "slideshow": {
     "slide_type": "slide"
    }
   },
   "outputs": [],
   "source": [
    "a=df['JobRole'].value_counts()\n",
    "labels=a.index\n",
    "g=sns.countplot(x='JobRole',hue='Attrition',data=df)\n",
    "g.set_xticklabels(labels=labels,rotation=90)\n",
    "plt.show()"
   ]
  },
  {
   "cell_type": "markdown",
   "id": "ad77ff00",
   "metadata": {
    "slideshow": {
     "slide_type": "fragment"
    }
   },
   "source": [
    "#### For job role of sales representative is about 80% and 15% to 30% for Sales Executive, Research Scientist and Laboratory Tehnician"
   ]
  },
  {
   "cell_type": "markdown",
   "id": "928f5e09",
   "metadata": {
    "slideshow": {
     "slide_type": "slide"
    }
   },
   "source": [
    "## Attrition analysis based on Job Satisfaction"
   ]
  },
  {
   "cell_type": "code",
   "execution_count": null,
   "id": "96291a45",
   "metadata": {
    "slideshow": {
     "slide_type": "skip"
    }
   },
   "outputs": [],
   "source": [
    "info_of_cat('JobSatisfaction')"
   ]
  },
  {
   "cell_type": "code",
   "execution_count": null,
   "id": "1c2ed9c0",
   "metadata": {
    "slideshow": {
     "slide_type": "slide"
    }
   },
   "outputs": [],
   "source": [
    "sns.countplot(x='JobSatisfaction',hue='Attrition',data=df)"
   ]
  },
  {
   "cell_type": "markdown",
   "id": "8891364d",
   "metadata": {
    "slideshow": {
     "slide_type": "fragment"
    }
   },
   "source": [
    "#### Employes those have rated higher for job satisfaction show very low attritions"
   ]
  },
  {
   "cell_type": "markdown",
   "id": "734fe46b",
   "metadata": {
    "slideshow": {
     "slide_type": "slide"
    }
   },
   "source": [
    "## Attrition analysis based on Marital Status"
   ]
  },
  {
   "cell_type": "code",
   "execution_count": null,
   "id": "49d7f63d",
   "metadata": {
    "slideshow": {
     "slide_type": "skip"
    }
   },
   "outputs": [],
   "source": [
    "info_of_cat('MaritalStatus')"
   ]
  },
  {
   "cell_type": "code",
   "execution_count": null,
   "id": "cb48fc47",
   "metadata": {
    "slideshow": {
     "slide_type": "slide"
    }
   },
   "outputs": [],
   "source": [
    "sns.countplot(x='MaritalStatus',hue='Attrition',data=df)"
   ]
  },
  {
   "cell_type": "markdown",
   "id": "660d4f75",
   "metadata": {
    "slideshow": {
     "slide_type": "fragment"
    }
   },
   "source": [
    "#### Employees those have Marital Status as Single show higher level or percentage of attritions as compared to others."
   ]
  },
  {
   "cell_type": "markdown",
   "id": "29575ca0",
   "metadata": {
    "slideshow": {
     "slide_type": "slide"
    }
   },
   "source": [
    "## Attrition analysis based on NumCompaniesWorked"
   ]
  },
  {
   "cell_type": "code",
   "execution_count": null,
   "id": "dd75f8f7",
   "metadata": {
    "slideshow": {
     "slide_type": "skip"
    }
   },
   "outputs": [],
   "source": [
    "info_of_cat('NumCompaniesWorked')"
   ]
  },
  {
   "cell_type": "code",
   "execution_count": null,
   "id": "7e23e393",
   "metadata": {
    "slideshow": {
     "slide_type": "slide"
    }
   },
   "outputs": [],
   "source": [
    "sns.countplot(x='NumCompaniesWorked',hue='Attrition',data=df)"
   ]
  },
  {
   "cell_type": "markdown",
   "id": "54c30b1c",
   "metadata": {
    "slideshow": {
     "slide_type": "fragment"
    }
   },
   "source": [
    "#### More than 600 employees have been working for 1 company and attritions have been around 120."
   ]
  },
  {
   "cell_type": "markdown",
   "id": "38de8f5e",
   "metadata": {
    "slideshow": {
     "slide_type": "slide"
    }
   },
   "source": [
    "## Attrition analysis based on Over Time"
   ]
  },
  {
   "cell_type": "code",
   "execution_count": null,
   "id": "37047b02",
   "metadata": {
    "slideshow": {
     "slide_type": "skip"
    }
   },
   "outputs": [],
   "source": [
    "info_of_cat('OverTime')"
   ]
  },
  {
   "cell_type": "code",
   "execution_count": null,
   "id": "9cc97c64",
   "metadata": {
    "slideshow": {
     "slide_type": "slide"
    }
   },
   "outputs": [],
   "source": [
    "sns.countplot(x='OverTime',hue='Attrition',data=df)"
   ]
  },
  {
   "cell_type": "markdown",
   "id": "b801eedc",
   "metadata": {
    "slideshow": {
     "slide_type": "fragment"
    }
   },
   "source": [
    "#### Attrition ratio is very low for employees not doing Over Time as compared to others who are doing over time"
   ]
  },
  {
   "cell_type": "markdown",
   "id": "1e76b59a",
   "metadata": {
    "slideshow": {
     "slide_type": "slide"
    }
   },
   "source": [
    "## Analysis for Attrition based on hourly rate"
   ]
  },
  {
   "cell_type": "code",
   "execution_count": null,
   "id": "a12fd181",
   "metadata": {
    "slideshow": {
     "slide_type": "skip"
    }
   },
   "outputs": [],
   "source": [
    "info_of_numerical('HourlyRate')"
   ]
  },
  {
   "cell_type": "code",
   "execution_count": null,
   "id": "ac94f408",
   "metadata": {
    "slideshow": {
     "slide_type": "slide"
    }
   },
   "outputs": [],
   "source": [
    "sns.histplot(x=df[\"HourlyRate\"], hue=df['Attrition'])"
   ]
  },
  {
   "cell_type": "markdown",
   "id": "83c62358",
   "metadata": {
    "slideshow": {
     "slide_type": "fragment"
    }
   },
   "source": [
    "#### Hourly rate is having least effect on the attrition. "
   ]
  },
  {
   "cell_type": "markdown",
   "id": "8ab1a2c5",
   "metadata": {
    "slideshow": {
     "slide_type": "slide"
    }
   },
   "source": [
    "## Analysis for Attrition based on Monthly Income"
   ]
  },
  {
   "cell_type": "code",
   "execution_count": null,
   "id": "fb0f86a1",
   "metadata": {
    "slideshow": {
     "slide_type": "skip"
    }
   },
   "outputs": [],
   "source": [
    "info_of_numerical('MonthlyIncome')"
   ]
  },
  {
   "cell_type": "code",
   "execution_count": null,
   "id": "689302ec",
   "metadata": {
    "slideshow": {
     "slide_type": "slide"
    }
   },
   "outputs": [],
   "source": [
    "sns.histplot(x=df[\"MonthlyIncome\"], hue=df['Attrition'],kde=True)"
   ]
  },
  {
   "cell_type": "markdown",
   "id": "10e13fb7",
   "metadata": {
    "slideshow": {
     "slide_type": "fragment"
    }
   },
   "source": [
    "#### 1.Maximum no. of attrition have been observed in employees having monthly income less that 5000. \n",
    "#### 2.Attritions are almost nil or minimum for employees having monthly income more than 10000.\n",
    "#### 3.Although for Employees having monthly income 3000 and 10000 show attrition ratio is 2:5 approx."
   ]
  },
  {
   "cell_type": "markdown",
   "id": "63269893",
   "metadata": {
    "slideshow": {
     "slide_type": "slide"
    }
   },
   "source": [
    "## LEVEL-3"
   ]
  },
  {
   "cell_type": "markdown",
   "id": "d94a7cbb",
   "metadata": {
    "slideshow": {
     "slide_type": "slide"
    }
   },
   "source": [
    "### Study Attrition wrt to gender and monthly income"
   ]
  },
  {
   "cell_type": "code",
   "execution_count": null,
   "id": "8aab1ed7",
   "metadata": {
    "slideshow": {
     "slide_type": "skip"
    }
   },
   "outputs": [],
   "source": [
    "ymmi=[]\n",
    "yfmi=[]\n",
    "nmmi=[]\n",
    "nfmi=[]\n",
    "\n",
    "for i in range(0,len(df)):\n",
    "    if df.loc[i,'Attrition']=='Yes':\n",
    "        if df.loc[i,'Gender']=='Male':\n",
    "            ymmi.append(df.loc[i,'MonthlyIncome'])\n",
    "        else:\n",
    "            yfmi.append(df.loc[i,'MonthlyIncome'])\n",
    "    else:\n",
    "        if df.loc[i,'Gender']=='Male':\n",
    "            nmmi.append(df.loc[i,'MonthlyIncome'])\n",
    "        else:\n",
    "            nfmi.append(df.loc[i,'MonthlyIncome'])"
   ]
  },
  {
   "cell_type": "code",
   "execution_count": null,
   "id": "a4112f48",
   "metadata": {
    "slideshow": {
     "slide_type": "slide"
    }
   },
   "outputs": [],
   "source": [
    "fig, ax=plt.subplots(1,2,figsize=(15,5))\n",
    "ax[0].set_title('Monthly Income for Male & Female Non-Attrition')\n",
    "\n",
    "\n",
    "\n",
    "sns.histplot(x=nmmi, ax=ax[0],color='b')\n",
    "sns.histplot(x=nfmi, color='g')\n",
    "\n",
    "plt.show()"
   ]
  },
  {
   "cell_type": "code",
   "execution_count": null,
   "id": "6caf0979",
   "metadata": {
    "slideshow": {
     "slide_type": "slide"
    }
   },
   "outputs": [],
   "source": [
    "fig, ax=plt.subplots(1,2,figsize=(15,5))\n",
    "ax[0].set_title('Monthly Income for Male Attrition')\n",
    "sns.histplot(x=ymmi, ax=ax[0],color='b')\n",
    "sns.histplot(x=yfmi, color='g')\n",
    "plt.show()"
   ]
  },
  {
   "cell_type": "markdown",
   "id": "305cf808",
   "metadata": {},
   "source": [
    "#### Considering the Monthly Income for Attrited Males and Females chart we can say that Male attrition are observed for Monthly income range 1000-15000 wheres for femaes the range is 1000-11000"
   ]
  },
  {
   "cell_type": "code",
   "execution_count": null,
   "id": "c42d6b00",
   "metadata": {},
   "outputs": [],
   "source": [
    "mmi=df[(df.Gender=='Male')]\n",
    "fmi=df[(df.Gender=='Female')]\n",
    "fig,ax=plt.subplots(1,2,figsize=(15,5))\n",
    "ax[0].set_title('Monthly Income for Non-attrited and Attrited Females')\n",
    "ax[1].set_title('Monthly Income for Non-attrited and Attrited Males')\n",
    "sns.histplot(x=fmi[\"MonthlyIncome\"], hue=fmi['Attrition'],ax=ax[0])\n",
    "sns.histplot(x=mmi[\"MonthlyIncome\"], hue=mmi['Attrition'])\n",
    "plt.show()"
   ]
  },
  {
   "cell_type": "markdown",
   "id": "73226a42",
   "metadata": {},
   "source": [
    "#### 1. Only male employees are observed to get attrited having monthly income more than 10000, for females it is almost nil.\n",
    "#### 2. For monthly income less than 2500 female show better stability that is lesser attrition percentage.\n",
    "#### 3. For monthly income around 20000 males are observed to be lesser percentage of attritions."
   ]
  },
  {
   "cell_type": "code",
   "execution_count": null,
   "id": "7db857f8",
   "metadata": {
    "slideshow": {
     "slide_type": "slide"
    }
   },
   "outputs": [],
   "source": [
    "ymi=df[(df.Attrition=='Yes')]\n",
    "nmi=df[(df.Attrition=='No')]\n",
    "fig,ax=plt.subplots(1,2,figsize=(15,5))\n",
    "ax[0].set_title('Monthly Income for Non-attrited Males and Females')\n",
    "ax[1].set_title('Monthly Income for Attrited Males and Females')\n",
    "sns.histplot(x=nmi[\"MonthlyIncome\"], hue=nmi['Gender'],ax=ax[0])\n",
    "sns.histplot(x=ymi[\"MonthlyIncome\"], hue=ymi['Gender'])"
   ]
  },
  {
   "cell_type": "markdown",
   "id": "b95a3a58",
   "metadata": {
    "slideshow": {
     "slide_type": "fragment"
    }
   },
   "source": [
    "#### 1. Major attrition for both female and male is at monthly income upto 5000."
   ]
  },
  {
   "cell_type": "markdown",
   "id": "5a1fb272",
   "metadata": {
    "slideshow": {
     "slide_type": "slide"
    }
   },
   "source": [
    "## Studying Attrition wrt to Business Travel and Monthly Income"
   ]
  },
  {
   "cell_type": "code",
   "execution_count": null,
   "id": "70f4672c",
   "metadata": {
    "slideshow": {
     "slide_type": "skip"
    }
   },
   "outputs": [],
   "source": [
    "df['BusinessTravel'].unique()"
   ]
  },
  {
   "cell_type": "code",
   "execution_count": null,
   "id": "0b7ebba6",
   "metadata": {
    "slideshow": {
     "slide_type": "slide"
    }
   },
   "outputs": [],
   "source": [
    "mi1=df[(df.BusinessTravel=='Travel_Rarely')]\n",
    "mi2=df[(df.BusinessTravel=='Travel_Frequently')]\n",
    "mi3=df[(df.BusinessTravel=='Non-Travel')]\n",
    "fig,ax=plt.subplots(1,3,figsize=(15,5))\n",
    "plt.suptitle('Monthly Income for Non-attrited and Attrited Employees as pr Travel Category')\n",
    "ax[0].set_title('Travel_Rarely Employees')\n",
    "ax[1].set_title('Travel_Frequently Employees')\n",
    "ax[2].set_title('Non-Travel Employees')\n",
    "sns.histplot(x=mi1[\"MonthlyIncome\"], hue=mi1['Attrition'],kde=True,ax=ax[0])\n",
    "sns.histplot(x=mi2[\"MonthlyIncome\"], hue=mi2['Attrition'],kde=True,ax=ax[1])\n",
    "sns.histplot(x=mi3[\"MonthlyIncome\"], hue=mi3['Attrition'],kde=True,ax=ax[2])\n",
    "plt.show()"
   ]
  },
  {
   "cell_type": "markdown",
   "id": "a6002aa9",
   "metadata": {
    "slideshow": {
     "slide_type": "fragment"
    }
   },
   "source": [
    "#### 1. Employees travelling frequently and having monthly income less than 5000 show high level of attritions.\n",
    "#### 2. For Non-Travel employees, attritions are very low for monthly income above 5000."
   ]
  },
  {
   "cell_type": "markdown",
   "id": "d4e4fee9",
   "metadata": {
    "slideshow": {
     "slide_type": "slide"
    }
   },
   "source": [
    "## Studying Attrition wrt to Distance from home and monthly income"
   ]
  },
  {
   "cell_type": "code",
   "execution_count": null,
   "id": "c7a8518e",
   "metadata": {
    "slideshow": {
     "slide_type": "slide"
    }
   },
   "outputs": [],
   "source": [
    "upto5kms=df[(df.DistanceFromHome<=5)]\n",
    "upto10kms=df[(df.DistanceFromHome>5) & (df.DistanceFromHome<=10)]\n",
    "upto20kms=df[(df.DistanceFromHome>10) & (df.DistanceFromHome<=20)]\n",
    "greaterthan20kms=df[(df.DistanceFromHome>20)]\n",
    "\n",
    "fig,ax=plt.subplots(1,4,figsize=(20,5))\n",
    "plt.suptitle('Monthly Income for Non-attrited and Attrited Employees as per Distance from Home')\n",
    "ax[0].set_title('Less Than 5kms')\n",
    "ax[1].set_title('6 to 10 kms')\n",
    "ax[2].set_title('11 to 20kms')\n",
    "ax[3].set_title('Greater Than 20kms')\n",
    "sns.histplot(x=upto5kms[\"MonthlyIncome\"], hue=upto5kms['Attrition'],ax=ax[0])\n",
    "sns.histplot(x=upto10kms[\"MonthlyIncome\"], hue=upto10kms['Attrition'],ax=ax[1])\n",
    "sns.histplot(x=upto20kms[\"MonthlyIncome\"], hue=upto20kms['Attrition'],ax=ax[2])\n",
    "sns.histplot(x=greaterthan20kms[\"MonthlyIncome\"], hue=greaterthan20kms['Attrition'],ax=ax[3])\n",
    "plt.show()  "
   ]
  },
  {
   "cell_type": "markdown",
   "id": "a34e24d7",
   "metadata": {
    "slideshow": {
     "slide_type": "fragment"
    }
   },
   "source": [
    "#### 1. For employees residing at the distance more than 20kms or between 11 to 20kms from company show higher attritions if monthly income is less than 10000\n"
   ]
  },
  {
   "cell_type": "markdown",
   "id": "944a5b92",
   "metadata": {
    "slideshow": {
     "slide_type": "slide"
    }
   },
   "source": [
    "## Studying Attrition wrt to Department and monthly income"
   ]
  },
  {
   "cell_type": "code",
   "execution_count": null,
   "id": "fe6ddaad",
   "metadata": {
    "slideshow": {
     "slide_type": "skip"
    }
   },
   "outputs": [],
   "source": [
    "df['Department'].unique()"
   ]
  },
  {
   "cell_type": "code",
   "execution_count": null,
   "id": "283f3230",
   "metadata": {
    "slideshow": {
     "slide_type": "slide"
    }
   },
   "outputs": [],
   "source": [
    "sales=df[df.Department=='Sales']\n",
    "RandD=df[df.Department=='Research & Development']\n",
    "hr=df[df.Department=='Human Resources']\n",
    "\n",
    "fig,ax=plt.subplots(1,3,figsize=(15,5))\n",
    "plt.suptitle('Monthly Income for Non-attrited and Attrited Employees as per Departments')\n",
    "ax[0].set_title('Sales Dept')\n",
    "ax[1].set_title('Research & Development Dept')\n",
    "ax[2].set_title('Human Resources Dept')\n",
    "sns.histplot(x=sales[\"MonthlyIncome\"], hue=sales['Attrition'],ax=ax[0])\n",
    "sns.histplot(x=RandD[\"MonthlyIncome\"], hue=RandD['Attrition'],ax=ax[1])\n",
    "sns.histplot(x=hr[\"MonthlyIncome\"], hue=hr['Attrition'],ax=ax[2])\n",
    "plt.show()  "
   ]
  },
  {
   "cell_type": "markdown",
   "id": "3220aae3",
   "metadata": {
    "slideshow": {
     "slide_type": "slide"
    }
   },
   "source": [
    "#### 1. For Sales department attritions are reduced after monthly income of 10000 only.\n",
    "#### 2. For R&D department attritions are reduced after monthly income of 5000-7000 or higher than 7000 is nil.\n",
    "#### 3. For HR department stability can be observed in the employees with mmonthly income 5000 or higher."
   ]
  },
  {
   "cell_type": "markdown",
   "id": "a767e854",
   "metadata": {
    "slideshow": {
     "slide_type": "slide"
    }
   },
   "source": [
    "## Studying Attrition wrt to Work life balance and Monthly Income"
   ]
  },
  {
   "cell_type": "code",
   "execution_count": null,
   "id": "1570c65a",
   "metadata": {
    "slideshow": {
     "slide_type": "skip"
    }
   },
   "outputs": [],
   "source": [
    "df['WorkLifeBalance'].unique()"
   ]
  },
  {
   "cell_type": "code",
   "execution_count": null,
   "id": "67b27d9e",
   "metadata": {
    "slideshow": {
     "slide_type": "slide"
    }
   },
   "outputs": [],
   "source": [
    "one=df[df.WorkLifeBalance==1]\n",
    "two=df[df.WorkLifeBalance==2]\n",
    "three=df[df.WorkLifeBalance==3]\n",
    "four=df[df.WorkLifeBalance==4]\n",
    "\n",
    "fig,ax=plt.subplots(1,4,figsize=(20,5))\n",
    "plt.suptitle('Monthly Income for Non-attrited and Attrited Employees as per Ratings for Work Life Balance')\n",
    "ax[0].set_title('Rating 1')\n",
    "ax[1].set_title('Rating 2')\n",
    "ax[2].set_title('Rating 3')\n",
    "ax[3].set_title('Rating 4')\n",
    "sns.histplot(x=one[\"MonthlyIncome\"], hue=one['Attrition'],ax=ax[0])\n",
    "sns.histplot(x=two[\"MonthlyIncome\"],hue=two['Attrition'],ax=ax[1])\n",
    "sns.histplot(x=three[\"MonthlyIncome\"], hue=three['Attrition'],ax=ax[2])\n",
    "sns.histplot(x=four[\"MonthlyIncome\"], hue=four['Attrition'],ax=ax[3])\n",
    "plt.show()  "
   ]
  },
  {
   "cell_type": "markdown",
   "id": "b6888266",
   "metadata": {
    "slideshow": {
     "slide_type": "slide"
    }
   },
   "source": [
    "#### 1. Employees those rated '1' have higher attrition irrespective of monthly income as compared to others.\n",
    "#### 2. With increase in rating attritions are observed to reduce.\n",
    "#### 3. For rated '4' group of employees but monthly income less than 5000 attrition are still observed to be higher as compared to others."
   ]
  },
  {
   "cell_type": "markdown",
   "id": "55f7401e",
   "metadata": {
    "slideshow": {
     "slide_type": "slide"
    }
   },
   "source": [
    "##  Studying Attrition wrt to Years At Company and monthly income"
   ]
  },
  {
   "cell_type": "code",
   "execution_count": null,
   "id": "0210b9e5",
   "metadata": {
    "slideshow": {
     "slide_type": "skip"
    }
   },
   "outputs": [],
   "source": [
    "df['YearsAtCompany'].max()"
   ]
  },
  {
   "cell_type": "code",
   "execution_count": null,
   "id": "ad84d383",
   "metadata": {
    "slideshow": {
     "slide_type": "slide"
    }
   },
   "outputs": [],
   "source": [
    "lessthan5=df[(df.YearsAtCompany<=5)]\n",
    "lessthan15=df[(df.YearsAtCompany<=15) & (df.YearsAtCompany>5)]\n",
    "lessthan25=df[(df.YearsAtCompany<=25) & (df.YearsAtCompany>15)]\n",
    "lessthan40=df[(df.YearsAtCompany<40) & (df.YearsAtCompany>=25)]\n",
    "fig,ax=plt.subplots(1,4,figsize=(20,5))\n",
    "plt.suptitle('Monthly Income for Non-attrited and Attrited Employees as per Years at company')\n",
    "\n",
    "ax[0].set_title('Less Than 5 Years')\n",
    "ax[1].set_title('More than 5 but not greater than 15years')\n",
    "ax[2].set_title('More than 15 but not greater than 25years')\n",
    "ax[3].set_title('More than 25 but not greater than 40years')\n",
    "\n",
    "sns.histplot(x=lessthan5[\"MonthlyIncome\"], hue=lessthan5['Attrition'],ax=ax[0])\n",
    "sns.histplot(x=lessthan15[\"MonthlyIncome\"],hue=lessthan15['Attrition'],ax=ax[1])\n",
    "sns.histplot(x=lessthan25[\"MonthlyIncome\"], hue=lessthan25['Attrition'],ax=ax[2])\n",
    "sns.histplot(x=lessthan40[\"MonthlyIncome\"], hue=lessthan40['Attrition'],ax=ax[3])\n",
    "\n",
    "plt.show()"
   ]
  },
  {
   "cell_type": "markdown",
   "id": "b5d39c6b",
   "metadata": {
    "slideshow": {
     "slide_type": "slide"
    }
   },
   "source": [
    "#### 1. Employees with less than 5 years at company and monthly income less than 5000 have high attritions and no attritions above 10000.\n",
    "#### 2. Employees with 5 to 15 years at the company show attritions upto monthly income of 12500.\n",
    "#### 3. Employees with 15 to 25 years at the company show attrition from monthly income of 10000 to 15000.\n",
    "#### 4. Employees with more than 25 years at the company have very rare attrition."
   ]
  },
  {
   "cell_type": "markdown",
   "id": "040d77e1",
   "metadata": {
    "slideshow": {
     "slide_type": "slide"
    }
   },
   "source": [
    "## Studying Attrition wrt to Gender and Work Life Balance"
   ]
  },
  {
   "cell_type": "code",
   "execution_count": null,
   "id": "9619c551",
   "metadata": {
    "slideshow": {
     "slide_type": "slide"
    }
   },
   "outputs": [],
   "source": [
    "male=df[(df.Gender=='Male')]\n",
    "female=df[(df.Gender=='Female')]\n",
    "fig,ax=plt.subplots(1,2,figsize=(15,7))\n",
    "plt.suptitle('Attrition for amles and female employees wrt Work Life Balance')\n",
    "ax[0].set_title('Attritions in Males wrt to work life balance')\n",
    "ax[1].set_title('Attritions in Females wrt to work life balance')\n",
    "sns.countplot(x=male['WorkLifeBalance'],hue=male['Attrition'],ax=ax[0])\n",
    "sns.countplot(x=female['WorkLifeBalance'],hue=female['Attrition'],ax=ax[1])\n",
    "plt.show()"
   ]
  },
  {
   "cell_type": "markdown",
   "id": "6c5bb523",
   "metadata": {
    "slideshow": {
     "slide_type": "slide"
    }
   },
   "source": [
    "#### 1. Employees rating '3' for Work Life Balance have less attritons.\n",
    "#### 2. Employees rating '1' for Work Life Balance have high attritons."
   ]
  },
  {
   "cell_type": "markdown",
   "id": "b5a8ac12",
   "metadata": {
    "slideshow": {
     "slide_type": "slide"
    }
   },
   "source": [
    "## Studying Attrition wrt to Gender and Distance from home"
   ]
  },
  {
   "cell_type": "code",
   "execution_count": null,
   "id": "f53c136c",
   "metadata": {
    "slideshow": {
     "slide_type": "skip"
    }
   },
   "outputs": [],
   "source": [
    "df['DistanceFromHome'].max()"
   ]
  },
  {
   "cell_type": "code",
   "execution_count": null,
   "id": "12f078f8",
   "metadata": {
    "slideshow": {
     "slide_type": "skip"
    }
   },
   "outputs": [],
   "source": [
    "lessthan7kms=df[(df.DistanceFromHome<=7)]\n",
    "lessthan15kms=df[(df.DistanceFromHome>7) & (df.DistanceFromHome<=15)]\n",
    "lessthan25kms=df[(df.DistanceFromHome>15) & (df.DistanceFromHome<=25)]\n",
    "greaterthan25kms=df[(df.DistanceFromHome>25)]\n",
    "\n",
    "fig,ax=plt.subplots(1,4,figsize=(20,5))\n",
    "ax[0].set_title(\"Employees residing less than 7kms\")\n",
    "ax[1].set_title(\"Employees residing in 7kms to 15kms\")\n",
    "ax[2].set_title(\"Employees residing in 16kms to 25kms\")\n",
    "ax[3].set_title(\"Employees residing greater than 25kms\")\n",
    "\n",
    "sns.countplot(x=lessthan7kms['Gender'],hue=lessthan7kms['Attrition'],ax=ax[0])\n",
    "sns.countplot(x=lessthan15kms['Gender'],hue=lessthan15kms['Attrition'],ax=ax[1])\n",
    "sns.countplot(x=lessthan25kms['Gender'],hue=lessthan25kms['Attrition'],ax=ax[2])\n",
    "sns.countplot(x=greaterthan25kms['Gender'],hue=greaterthan25kms['Attrition'],ax=ax[3])\n",
    "plt.show()\n"
   ]
  },
  {
   "cell_type": "markdown",
   "id": "c207154d",
   "metadata": {
    "slideshow": {
     "slide_type": "slide"
    }
   },
   "source": [
    "#### 1. For Employees having distance from home between 7 to 25 kms have higher attrition to non attrition ratio as compared to others for males as well as females."
   ]
  },
  {
   "cell_type": "markdown",
   "id": "71084671",
   "metadata": {
    "slideshow": {
     "slide_type": "slide"
    }
   },
   "source": [
    "## Studying Attrition wrt to Gender and Marital Status"
   ]
  },
  {
   "cell_type": "code",
   "execution_count": null,
   "id": "f4b28fff",
   "metadata": {
    "slideshow": {
     "slide_type": "skip"
    }
   },
   "outputs": [],
   "source": [
    "df['MaritalStatus'].unique()"
   ]
  },
  {
   "cell_type": "code",
   "execution_count": null,
   "id": "7d20cddd",
   "metadata": {
    "slideshow": {
     "slide_type": "slide"
    }
   },
   "outputs": [],
   "source": [
    "male=df.loc[(df.Gender=='Male'),['Attrition','MaritalStatus']]\n",
    "female=df.loc[(df.Gender=='Female'),['Attrition','MaritalStatus']]\n",
    "fig,ax=plt.subplots(1,2,figsize=(15,7))\n",
    "ax[0].set_title(\"Attrition for Males\")\n",
    "ax[1].set_title(\"Attrition for Females\")\n",
    "\n",
    "sns.countplot(x=male['MaritalStatus'],hue=male['Attrition'],ax=ax[0])\n",
    "sns.countplot(x=female['MaritalStatus'],hue=female['Attrition'],ax=ax[1])\n",
    "\n",
    "plt.show()\n"
   ]
  },
  {
   "cell_type": "markdown",
   "id": "fdb5375e",
   "metadata": {
    "slideshow": {
     "slide_type": "fragment"
    }
   },
   "source": [
    "#### 1. Singles in males or females both have highes attrition to non attrition ratio."
   ]
  },
  {
   "cell_type": "markdown",
   "id": "36f831f9",
   "metadata": {
    "slideshow": {
     "slide_type": "slide"
    }
   },
   "source": [
    "## Studying Attrition wrt to Marital Status and Monthly Income"
   ]
  },
  {
   "cell_type": "code",
   "execution_count": null,
   "id": "d075b53d",
   "metadata": {
    "slideshow": {
     "slide_type": "slide"
    }
   },
   "outputs": [],
   "source": [
    "single=df[df.MaritalStatus=='Single']\n",
    "married=df[df.MaritalStatus=='Married']\n",
    "divorced=df[df.MaritalStatus=='Divorced']\n",
    "\n",
    "fig,ax=plt.subplots(1,3,figsize=(15,5))\n",
    "ax[0].set_title('Attritions for Single based on Monthly income')\n",
    "ax[1].set_title('Attritions for Married based on Monthly income')\n",
    "ax[2].set_title('Attritions for Divorced based on Monthly income')\n",
    "\n",
    "sns.histplot(x=single['MonthlyIncome'],hue=single['Attrition'],ax=ax[0])\n",
    "sns.histplot(x=married['MonthlyIncome'],hue=married['Attrition'],ax=ax[1])\n",
    "sns.histplot(x=divorced['MonthlyIncome'],hue=divorced['Attrition'],ax=ax[2])\n",
    "\n",
    "plt.show()"
   ]
  },
  {
   "cell_type": "markdown",
   "id": "edec43d8",
   "metadata": {
    "slideshow": {
     "slide_type": "slide"
    }
   },
   "source": [
    "#### 1. Employees with marital status as 'Single' have high attrition to non-attrition ratio upto monthly income of 10000 range 0.5 to 0.2.\n",
    "#### 2. Employees with marital status as 'Married' have low attrition to non-attrition ratio upto monthly income of 10000 range 0.3 to 0.1.\n",
    "#### 3. Employees with marital status as 'Divorced' have very low attrition after 5000."
   ]
  },
  {
   "cell_type": "code",
   "execution_count": null,
   "id": "6ca03ced",
   "metadata": {
    "slideshow": {
     "slide_type": "slide"
    }
   },
   "outputs": [],
   "source": [
    "fig,ax=plt.subplots(1,3,figsize=(15,5))\n",
    "ax[0].set_title('Attritions for Single based on Monthly income')\n",
    "ax[1].set_title('Attritions for Married based on Monthly income')\n",
    "ax[2].set_title('Attritions for Married based on Monthly income')\n",
    "\n",
    "sns.boxplot(x=single['MonthlyIncome'],hue=single['Attrition'],ax=ax[0])\n",
    "sns.boxplot(x=married['MonthlyIncome'],hue=married['Attrition'],ax=ax[1])\n",
    "sns.boxplot(x=divorced['MonthlyIncome'],hue=divorced['Attrition'],ax=ax[2])\n",
    "\n",
    "plt.show()"
   ]
  },
  {
   "cell_type": "code",
   "execution_count": null,
   "id": "4c440417",
   "metadata": {},
   "outputs": [],
   "source": []
  },
  {
   "cell_type": "markdown",
   "id": "78d7767e",
   "metadata": {
    "slideshow": {
     "slide_type": "slide"
    }
   },
   "source": [
    "## Studying Attrition wrt to Gender and Business Travel"
   ]
  },
  {
   "cell_type": "code",
   "execution_count": null,
   "id": "59fa2799",
   "metadata": {
    "slideshow": {
     "slide_type": "slide"
    }
   },
   "outputs": [],
   "source": [
    "male=df[(df.Gender=='Male')]\n",
    "female=df[(df.Gender=='Female')]\n",
    "fig,ax=plt.subplots(1,2,figsize=(15,7))\n",
    "ax[0].set_title(\"Attrition for Males\")\n",
    "ax[1].set_title(\"Attrition for Females\")\n",
    "sns.countplot(x=male['BusinessTravel'],hue=male['Attrition'],ax=ax[0])\n",
    "sns.countplot(x=female['BusinessTravel'],hue=female['Attrition'],ax=ax[1])\n",
    "\n",
    "plt.show()\n"
   ]
  },
  {
   "cell_type": "markdown",
   "id": "68af9389",
   "metadata": {
    "slideshow": {
     "slide_type": "slide"
    }
   },
   "source": [
    "#### 1. For Travel frequently category for males attrition to non attrition ratio is 0.3 whereas for females is 0.4.\n",
    "#### 2. For Travel Rarely category for males attrition to non attrition ratio is 0.2 whereas for females is 0.14."
   ]
  },
  {
   "cell_type": "markdown",
   "id": "08f3df79",
   "metadata": {
    "slideshow": {
     "slide_type": "slide"
    }
   },
   "source": [
    "## Studying Attrition wrt to Marital Status and Business Travel"
   ]
  },
  {
   "cell_type": "code",
   "execution_count": null,
   "id": "54a2212c",
   "metadata": {
    "slideshow": {
     "slide_type": "slide"
    }
   },
   "outputs": [],
   "source": [
    "fig,ax=plt.subplots(1,3,figsize=(15,5))\n",
    "ax[0].set_title(\"Attrition for Single\")\n",
    "ax[1].set_title(\"Attrition for Married\")\n",
    "ax[2].set_title(\"Attrition for Divorced\")\n",
    "\n",
    "sns.countplot(x=single['BusinessTravel'],hue=single['Attrition'],ax=ax[0])\n",
    "sns.countplot(x=married['BusinessTravel'],hue=married['Attrition'],ax=ax[1])\n",
    "sns.countplot(x=divorced['BusinessTravel'],hue=divorced['Attrition'],ax=ax[2])\n",
    "\n",
    "plt.show()"
   ]
  },
  {
   "cell_type": "markdown",
   "id": "a38e6e81",
   "metadata": {
    "slideshow": {
     "slide_type": "slide"
    }
   },
   "source": [
    "#### 1. For employees with marital status as 'Single' have attrition to non-attrition ratio for Travel rarely as 0.3, for Travel Frequently as 0.6 and Non Travel as 0.25.\n",
    "#### 2. For employees with marital status as 'Married' have attrition to non-attrition ratio for Travel rarely as 0.13, for Travel Frequently as 0.25 and Non Travel as 0.13.\n",
    "#### 3. For employees with marital status as 'Divorced' have attrition to non-attrition ratio for Travel rarely as 0.1 and for Travel Frequently as 0.2."
   ]
  },
  {
   "cell_type": "markdown",
   "id": "86fca787",
   "metadata": {
    "slideshow": {
     "slide_type": "slide"
    }
   },
   "source": [
    "## Studying Attrition wrt to Gender and Years Since Last Promotion"
   ]
  },
  {
   "cell_type": "code",
   "execution_count": null,
   "id": "8f322c4b",
   "metadata": {
    "slideshow": {
     "slide_type": "slide"
    }
   },
   "outputs": [],
   "source": [
    "male=df[(df.Gender=='Male')]\n",
    "female=df[(df.Gender=='Female')]\n",
    "fig,ax=plt.subplots(1,2,figsize=(15,7))\n",
    "ax[0].set_title(\"Attrition for Males\")\n",
    "ax[1].set_title(\"Attrition for Females\")\n",
    "sns.histplot(x=male['YearsSinceLastPromotion'],hue=male['Attrition'],ax=ax[0])\n",
    "sns.histplot(x=female['YearsSinceLastPromotion'],hue=female['Attrition'],ax=ax[1])\n",
    "\n",
    "plt.show()\n"
   ]
  },
  {
   "cell_type": "markdown",
   "id": "f55fa2eb",
   "metadata": {
    "slideshow": {
     "slide_type": "slide"
    }
   },
   "source": [
    "#### 1. Attrition pattern for both male and female employees seem to be similar and attrition to non attrition ratio is 0.1 to 0.3."
   ]
  },
  {
   "cell_type": "markdown",
   "id": "912ac298",
   "metadata": {
    "slideshow": {
     "slide_type": "slide"
    }
   },
   "source": [
    "## Studying Attrition wrt to Gender and Years at the company"
   ]
  },
  {
   "cell_type": "code",
   "execution_count": null,
   "id": "2799f3f9",
   "metadata": {
    "slideshow": {
     "slide_type": "slide"
    }
   },
   "outputs": [],
   "source": [
    "male=df[(df.Gender=='Male')]\n",
    "female=df[(df.Gender=='Female')]\n",
    "fig,ax=plt.subplots(1,2,figsize=(15,7))\n",
    "ax[0].set_title(\"Attrition for Males\")\n",
    "ax[1].set_tgitle(\"Attrition for Females\")\n",
    "sns.histplot(x=male['YearsAtCompany'],hue=male['Attrition'],ax=ax[0])\n",
    "sns.histplot(x=female['YearsAtCompany'],hue=female['Attrition'],ax=ax[1])\n",
    "\n",
    "plt.show()"
   ]
  },
  {
   "cell_type": "markdown",
   "id": "62290de7",
   "metadata": {
    "slideshow": {
     "slide_type": "slide"
    }
   },
   "source": [
    "#### 1. Attritions are observed for males and females who have been at the company for 10 or less than yaers at company."
   ]
  },
  {
   "cell_type": "markdown",
   "id": "4ddc2276",
   "metadata": {
    "slideshow": {
     "slide_type": "slide"
    }
   },
   "source": [
    "## Studying Attrition wrt to Marital Status with Work life balance"
   ]
  },
  {
   "cell_type": "code",
   "execution_count": null,
   "id": "385c9ecc",
   "metadata": {
    "slideshow": {
     "slide_type": "slide"
    }
   },
   "outputs": [],
   "source": [
    "fig,ax=plt.subplots(1,3,figsize=(15,5))\n",
    "ax[0].set_title(\"Attrition for Single\")\n",
    "ax[1].set_title(\"Attrition for Married\")\n",
    "ax[2].set_title(\"Attrition for Divorced\")\n",
    "\n",
    "sns.countplot(x=single['WorkLifeBalance'],hue=single['Attrition'],ax=ax[0])\n",
    "sns.countplot(x=married['WorkLifeBalance'],hue=married['Attrition'],ax=ax[1])\n",
    "sns.countplot(x=divorced['WorkLifeBalance'],hue=divorced['Attrition'],ax=ax[2])\n",
    "\n",
    "plt.show()"
   ]
  },
  {
   "cell_type": "markdown",
   "id": "8eecbf08",
   "metadata": {
    "slideshow": {
     "slide_type": "slide"
    }
   },
   "source": [
    "#### 1. As work life Blance rating increases atrition to non-attrition ratio falls down for all category of marital status."
   ]
  },
  {
   "cell_type": "markdown",
   "id": "526ef49c",
   "metadata": {
    "slideshow": {
     "slide_type": "slide"
    }
   },
   "source": [
    "## Studying Attrition wrt to Total Working Years and monthly income"
   ]
  },
  {
   "cell_type": "code",
   "execution_count": null,
   "id": "c25217b1",
   "metadata": {
    "slideshow": {
     "slide_type": "skip"
    }
   },
   "outputs": [],
   "source": [
    "df['TotalWorkingYears'].max()"
   ]
  },
  {
   "cell_type": "code",
   "execution_count": null,
   "id": "00b1a9d2",
   "metadata": {
    "slideshow": {
     "slide_type": "slide"
    }
   },
   "outputs": [],
   "source": [
    "lessthan5=df[(df.TotalWorkingYears<=5)]\n",
    "lessthan15=df[(df.TotalWorkingYears<=15) & (df.TotalWorkingYears>5)]\n",
    "lessthan25=df[(df.TotalWorkingYears<=25) & (df.TotalWorkingYears>15)]\n",
    "greaterthan25=df[(df.TotalWorkingYears>=25)]\n",
    "\n",
    "fig,ax=plt.subplots(1,4,figsize=(20,5))\n",
    "plt.suptitle('Monthly Income for Non-attrited and Attrited Employees as per Total Working Years')\n",
    "\n",
    "ax[0].set_title('Less Than 5 Years')\n",
    "ax[1].set_title('More than 5 but not greater than 15years')\n",
    "ax[2].set_title('More than 15 but not greater than 25years')\n",
    "ax[3].set_title('More than 25 years')\n",
    "\n",
    "sns.histplot(x=lessthan5[\"MonthlyIncome\"], hue=lessthan5['Attrition'],ax=ax[0])\n",
    "sns.histplot(x=lessthan15[\"MonthlyIncome\"],hue=lessthan15['Attrition'],ax=ax[1])\n",
    "sns.histplot(x=lessthan25[\"MonthlyIncome\"], hue=lessthan25['Attrition'],ax=ax[2])\n",
    "sns.histplot(x=lessthan40[\"MonthlyIncome\"], hue=lessthan40['Attrition'],ax=ax[3])\n",
    "\n",
    "plt.show()"
   ]
  },
  {
   "cell_type": "markdown",
   "id": "830bad8c",
   "metadata": {
    "slideshow": {
     "slide_type": "slide"
    }
   },
   "source": [
    "#### 1. For employees with total working years less than 5years have monthly income equal to or less than 5000 and show very high attrition ratio about 0.25 to 1.0.\n",
    "#### 2. For employees with total working years 5-15years have attrition to non-attrition ratio 0.1 to 0.2.\n",
    "#### 3. For employees with total working years 15-25years have random attrition but very less.\n",
    "#### 4. For employees with total working years more than 25years have no attritions instead for monthly income of around 10000 and 18000-20000."
   ]
  },
  {
   "cell_type": "markdown",
   "id": "4ca3291c",
   "metadata": {
    "slideshow": {
     "slide_type": "slide"
    }
   },
   "source": [
    "## Studying Attrition wrt to Total Working Years and Business Travel"
   ]
  },
  {
   "cell_type": "code",
   "execution_count": null,
   "id": "68ed319c",
   "metadata": {
    "slideshow": {
     "slide_type": "slide"
    }
   },
   "outputs": [],
   "source": [
    "tr=df[(df.BusinessTravel=='Travel_Rarely')]\n",
    "tf=df[(df.BusinessTravel=='Travel_Frequently')]\n",
    "nt=df[(df.BusinessTravel=='Non-Travel')]\n",
    "\n",
    "fig,ax=plt.subplots(1,3,figsize=(15,5))\n",
    "ax[0].set_title(\"Attrition for Travel Rarely\")\n",
    "ax[1].set_title(\"Attrition for Travel Frequently\")\n",
    "ax[2].set_title(\"Attrition for Non Travel\")\n",
    "\n",
    "sns.histplot(x=tr['TotalWorkingYears'],hue=tr['Attrition'],ax=ax[0])\n",
    "sns.histplot(x=tf['TotalWorkingYears'],hue=tf['Attrition'],ax=ax[1])\n",
    "sns.histplot(x=nt['TotalWorkingYears'],hue=nt['Attrition'],ax=ax[2])\n",
    "\n",
    "plt.show()"
   ]
  },
  {
   "cell_type": "markdown",
   "id": "167ee974",
   "metadata": {
    "slideshow": {
     "slide_type": "slide"
    }
   },
   "source": [
    "#### 1. For Travel Rarely category of employees with Total working years of 4-20years attrition to non-attrition ratio is between 0.2 to 0.3.\n",
    "#### 2. For Travel Frequently category of employees with Total working years of 0-8years attrition to non-attrition ratio is between 0.3 to 0.4.\n",
    "#### 3. For Travel Rarely and Travel Frequently category of employees with Total working years less than 4years attrition to non-attrition ratio is between 1 to 1.5.\n",
    "#### 4. For Non-Travel category of employees with Total working years upto 10years attrition to non-attrition ratio is between 0.1 to 0.15 and after that attrition are almost nil."
   ]
  },
  {
   "cell_type": "markdown",
   "id": "e77cfa06",
   "metadata": {
    "slideshow": {
     "slide_type": "slide"
    }
   },
   "source": [
    "#  Thank You."
   ]
  },
  {
   "cell_type": "code",
   "execution_count": null,
   "id": "5d460237",
   "metadata": {},
   "outputs": [],
   "source": []
  }
 ],
 "metadata": {
  "celltoolbar": "Slideshow",
  "kernelspec": {
   "display_name": "Python 3 (ipykernel)",
   "language": "python",
   "name": "python3"
  },
  "language_info": {
   "codemirror_mode": {
    "name": "ipython",
    "version": 3
   },
   "file_extension": ".py",
   "mimetype": "text/x-python",
   "name": "python",
   "nbconvert_exporter": "python",
   "pygments_lexer": "ipython3",
   "version": "3.9.13"
  }
 },
 "nbformat": 4,
 "nbformat_minor": 5
}
